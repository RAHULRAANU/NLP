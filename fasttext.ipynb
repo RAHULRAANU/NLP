{
 "cells": [
  {
   "cell_type": "markdown",
   "id": "d799d918",
   "metadata": {},
   "source": [
    "## What is FastText?\n",
    "FastText is a library created by the Facebook Research Team for efficient learning of word representations and sentence classification"
   ]
  },
  {
   "cell_type": "code",
   "execution_count": 1,
   "id": "93eb5a0a",
   "metadata": {},
   "outputs": [],
   "source": [
    "import os\n",
    "import pandas as pd\n",
    "import numpy as np\n",
    "import fasttext\n",
    "import swifter\n",
    "import re\n",
    "import string\n",
    "\n",
    "import warnings\n",
    "warnings.filterwarnings('ignore')"
   ]
  },
  {
   "cell_type": "code",
   "execution_count": 2,
   "id": "664052d7",
   "metadata": {},
   "outputs": [],
   "source": [
    "# reading path \n",
    "path1 = r'/home/rahul/bikram sir/text_classification_corpus/cybersecurity_tweets.csv'\n",
    "path2 = r'/home/rahul/bikram sir/text_classification_corpus/not_cybersecurity_tweets.csv'"
   ]
  },
  {
   "cell_type": "code",
   "execution_count": 3,
   "id": "7a52e313",
   "metadata": {},
   "outputs": [],
   "source": [
    "csv1 = pd.read_csv(path1)\n",
    "csv2 = pd.read_csv(path2)\n",
    "\n",
    "df = pd.concat([csv1,csv2])"
   ]
  },
  {
   "cell_type": "code",
   "execution_count": 4,
   "id": "d0fa2dc2",
   "metadata": {},
   "outputs": [
    {
     "data": {
      "text/html": [
       "<div>\n",
       "<style scoped>\n",
       "    .dataframe tbody tr th:only-of-type {\n",
       "        vertical-align: middle;\n",
       "    }\n",
       "\n",
       "    .dataframe tbody tr th {\n",
       "        vertical-align: top;\n",
       "    }\n",
       "\n",
       "    .dataframe thead th {\n",
       "        text-align: right;\n",
       "    }\n",
       "</style>\n",
       "<table border=\"1\" class=\"dataframe\">\n",
       "  <thead>\n",
       "    <tr style=\"text-align: right;\">\n",
       "      <th></th>\n",
       "      <th>text</th>\n",
       "      <th>label</th>\n",
       "    </tr>\n",
       "  </thead>\n",
       "  <tbody>\n",
       "    <tr>\n",
       "      <th>0</th>\n",
       "      <td>#AI Robo-Advisers and the Future of Financial ...</td>\n",
       "      <td>1</td>\n",
       "    </tr>\n",
       "    <tr>\n",
       "      <th>1</th>\n",
       "      <td>Hackers causing havoc on Mexican banking syste...</td>\n",
       "      <td>1</td>\n",
       "    </tr>\n",
       "    <tr>\n",
       "      <th>2</th>\n",
       "      <td>CVE-2019-13127 An issue was discovered in mxGr...</td>\n",
       "      <td>1</td>\n",
       "    </tr>\n",
       "    <tr>\n",
       "      <th>3</th>\n",
       "      <td>How to protect your online identity #labourcyb...</td>\n",
       "      <td>1</td>\n",
       "    </tr>\n",
       "    <tr>\n",
       "      <th>4</th>\n",
       "      <td>Forensic Acquisition - Shadow Cyber Sec  https...</td>\n",
       "      <td>1</td>\n",
       "    </tr>\n",
       "    <tr>\n",
       "      <th>...</th>\n",
       "      <td>...</td>\n",
       "      <td>...</td>\n",
       "    </tr>\n",
       "    <tr>\n",
       "      <th>199995</th>\n",
       "      <td>Attackers Test Weak Passwords in Purple Fox Ma...</td>\n",
       "      <td>0</td>\n",
       "    </tr>\n",
       "    <tr>\n",
       "      <th>199996</th>\n",
       "      <td>Aviso para los usuarios de correo de @AytoMurc...</td>\n",
       "      <td>0</td>\n",
       "    </tr>\n",
       "    <tr>\n",
       "      <th>199997</th>\n",
       "      <td>NPM had an obfuscated birthday-like easter egg...</td>\n",
       "      <td>0</td>\n",
       "    </tr>\n",
       "    <tr>\n",
       "      <th>199998</th>\n",
       "      <td>CPUの脆弱性「Spectre」に対応してAMDがリリースしたパッチに問題があることをInt...</td>\n",
       "      <td>0</td>\n",
       "    </tr>\n",
       "    <tr>\n",
       "      <th>199999</th>\n",
       "      <td>A new Android banking malware named Octo has a...</td>\n",
       "      <td>0</td>\n",
       "    </tr>\n",
       "  </tbody>\n",
       "</table>\n",
       "<p>400000 rows × 2 columns</p>\n",
       "</div>"
      ],
      "text/plain": [
       "                                                     text  label\n",
       "0       #AI Robo-Advisers and the Future of Financial ...      1\n",
       "1       Hackers causing havoc on Mexican banking syste...      1\n",
       "2       CVE-2019-13127 An issue was discovered in mxGr...      1\n",
       "3       How to protect your online identity #labourcyb...      1\n",
       "4       Forensic Acquisition - Shadow Cyber Sec  https...      1\n",
       "...                                                   ...    ...\n",
       "199995  Attackers Test Weak Passwords in Purple Fox Ma...      0\n",
       "199996  Aviso para los usuarios de correo de @AytoMurc...      0\n",
       "199997  NPM had an obfuscated birthday-like easter egg...      0\n",
       "199998  CPUの脆弱性「Spectre」に対応してAMDがリリースしたパッチに問題があることをInt...      0\n",
       "199999  A new Android banking malware named Octo has a...      0\n",
       "\n",
       "[400000 rows x 2 columns]"
      ]
     },
     "execution_count": 4,
     "metadata": {},
     "output_type": "execute_result"
    }
   ],
   "source": [
    "df"
   ]
  },
  {
   "cell_type": "code",
   "execution_count": 5,
   "id": "9dde537c",
   "metadata": {},
   "outputs": [],
   "source": [
    "# df.text.tolist()"
   ]
  },
  {
   "cell_type": "markdown",
   "id": "4a0db327",
   "metadata": {},
   "source": [
    "## Text Preprocessing"
   ]
  },
  {
   "cell_type": "code",
   "execution_count": 6,
   "id": "dfc48e17",
   "metadata": {},
   "outputs": [],
   "source": [
    "class text_preprocess:\n",
    "    \n",
    "    def __init__(self):\n",
    "        pass\n",
    "\n",
    "    def convert_to_lower(self, text):\n",
    "        return text.lower()\n",
    "\n",
    "    \n",
    "    def remove_emojis(self, text):\n",
    "        text = re.sub(r\"(?:\\@|https?\\://)\\S+\", \"\", text) #remove links and mentions\n",
    "        text = re.sub(r\"<.*?>\",\"\",text)\n",
    "\n",
    "        wierd_pattern = re.compile(\"[\"\n",
    "            u\"\\U0001F600-\\U0001F64F\"  # emotions\n",
    "            u\"\\U0001F300-\\U0001F5FF\"  # symbols & pictographs\n",
    "            u\"\\U0001F680-\\U0001F6FF\"  # transport & map symbols\n",
    "            u\"\\U0001F1E0-\\U0001F1FF\"  # flags (iOS)\n",
    "            u\"\\U00002702-\\U000027B0\"\n",
    "            u\"\\U000024C2-\\U0001F251\"\n",
    "            u\"\\U0001f926-\\U0001f937\"\n",
    "            u'\\U00010000-\\U0010ffff'\n",
    "            u\"\\u200d\"\n",
    "            u\"\\u2640-\\u2642\"\n",
    "            u\"\\u2600-\\u2B55\"\n",
    "            u\"\\u23cf\"\n",
    "            u\"\\u23e9\"\n",
    "            u\"\\u231a\"\n",
    "            u\"\\u3030\"\n",
    "            u\"\\ufe0f\"\n",
    "            u\"\\u2069\"\n",
    "            u\"\\u2066\"\n",
    "            u\"\\u200c\"\n",
    "            u\"\\u2068\"\n",
    "            u\"\\u2067\"\n",
    "            \"]+\", flags=re.UNICODE)\n",
    "\n",
    "        rm_emoji = wierd_pattern.sub(r'', text)\n",
    "        return rm_emoji\n",
    "\n",
    "    def remove_html(self, text):\n",
    "        html = re.compile(r'<.*?>|&([a-z0-9]+|#[0-9]{1,6}|#x[0-9a-f]{1,6});')\n",
    "        rm_html = re.sub(html, '', text)\n",
    "        return rm_html\n",
    "\n",
    "    \n",
    "    def remove_URL(self,text):\n",
    "        url = re.compile(r'https?://\\S+|www\\.\\S+')\n",
    "        URL = url.sub(r'', text)\n",
    "        return URL\n",
    "\n",
    "    \n",
    "    def remove_non_ascii(self, text):\n",
    "        return re.sub(r'[^\\x00-\\x7f]',r'', text) # or ''.join([x for x in text if x in string.printable])     \n",
    "    \n",
    "    \n",
    "    def remove_numbers(self, text):\n",
    "        number_pattern = r'\\d+'\n",
    "        without_number = re.sub(pattern=number_pattern, repl=\" \", string=text)\n",
    "        return without_number\n",
    "\n",
    "\n",
    "    def remove_punctuation(self,text):\n",
    "        return text.translate(str.maketrans('', '', string.punctuation))\n",
    "\n",
    "\n",
    "    def remove_extra_white_spaces(self, text):\n",
    "        single_char_pattern = re.compile(r'\\s+[a-zA-Z]\\s+')\n",
    "        without_sc = re.sub(single_char_pattern, \"\", text)\n",
    "#         without_sc = text.replace(' ', '')\n",
    "        return without_sc\n",
    "\n",
    "    def unwanted_chrs(self, text):\n",
    "        text = re.sub(r'https?:\\/\\/.*[\\r\\n]*', '', text, flags=re.MULTILINE)\n",
    "        text = re.sub(r'\\<a href', ' ', text)\n",
    "        text = re.sub(r'&amp;', '', text) \n",
    "        text = re.sub(r'[_\"\\-;%()|+&=*%.,!?:#$@\\[\\]/]', ' ', text)\n",
    "        text = re.sub(r'<br />', ' ', text)\n",
    "        text = re.sub(r'\\'', ' ', text)\n",
    "        return (text)\n",
    "\n",
    "\n",
    "    def preprocessText(self,text):            \n",
    "        return self.remove_extra_white_spaces(self.unwanted_chrs(self.remove_non_ascii(self.remove_URL(self.remove_html(self.remove_punctuation(self.remove_numbers(self.remove_emojis(self.convert_to_lower(text)))))))))\n"
   ]
  },
  {
   "cell_type": "code",
   "execution_count": 7,
   "id": "8cf19518",
   "metadata": {},
   "outputs": [
    {
     "data": {
      "application/vnd.jupyter.widget-view+json": {
       "model_id": "e81af9ce863542ae8ea1483eb13f15ea",
       "version_major": 2,
       "version_minor": 0
      },
      "text/plain": [
       "Pandas Apply:   0%|          | 0/400000 [00:00<?, ?it/s]"
      ]
     },
     "metadata": {},
     "output_type": "display_data"
    }
   ],
   "source": [
    "if __name__ == '__main__':\n",
    "    text_prprocess_obj = text_preprocess()\n",
    "    df.text = df.text.swifter.apply(lambda x: text_prprocess_obj.preprocessText(x))"
   ]
  },
  {
   "cell_type": "code",
   "execution_count": 8,
   "id": "276c29da",
   "metadata": {},
   "outputs": [],
   "source": [
    "text_prprocess_obj = text_preprocess()"
   ]
  },
  {
   "cell_type": "code",
   "execution_count": 9,
   "id": "28c886c6",
   "metadata": {},
   "outputs": [
    {
     "data": {
      "text/plain": [
       "'  ihgfikhlkj afh '"
      ]
     },
     "execution_count": 9,
     "metadata": {},
     "output_type": "execute_result"
    }
   ],
   "source": [
    "x = '  IHGFIKHLKJ AFH '\n",
    "text_prprocess_obj.preprocessText(x)"
   ]
  },
  {
   "cell_type": "code",
   "execution_count": 10,
   "id": "ca629c03",
   "metadata": {
    "scrolled": true
   },
   "outputs": [],
   "source": [
    "# df.text.tolist()"
   ]
  },
  {
   "cell_type": "markdown",
   "id": "aba34977",
   "metadata": {},
   "source": [
    "## Tokenization"
   ]
  },
  {
   "cell_type": "code",
   "execution_count": 11,
   "id": "1cfa74fd",
   "metadata": {},
   "outputs": [
    {
     "name": "stderr",
     "output_type": "stream",
     "text": [
      "2023-01-07 16:36:24.900641: I tensorflow/core/platform/cpu_feature_guard.cc:193] This TensorFlow binary is optimized with oneAPI Deep Neural Network Library (oneDNN) to use the following CPU instructions in performance-critical operations:  AVX2 FMA\n",
      "To enable them in other operations, rebuild TensorFlow with the appropriate compiler flags.\n",
      "2023-01-07 16:36:31.563957: W tensorflow/compiler/xla/stream_executor/platform/default/dso_loader.cc:64] Could not load dynamic library 'libnvinfer.so.7'; dlerror: libnvinfer.so.7: cannot open shared object file: No such file or directory\n",
      "2023-01-07 16:36:31.564099: W tensorflow/compiler/xla/stream_executor/platform/default/dso_loader.cc:64] Could not load dynamic library 'libnvinfer_plugin.so.7'; dlerror: libnvinfer_plugin.so.7: cannot open shared object file: No such file or directory\n",
      "2023-01-07 16:36:31.564111: W tensorflow/compiler/tf2tensorrt/utils/py_utils.cc:38] TF-TRT Warning: Cannot dlopen some TensorRT libraries. If you would like to use Nvidia GPU with TensorRT, please make sure the missing libraries mentioned above are installed properly.\n",
      "2023-01-07 16:36:32.839789: E tensorflow/compiler/xla/stream_executor/cuda/cuda_driver.cc:267] failed call to cuInit: CUDA_ERROR_NO_DEVICE: no CUDA-capable device is detected\n",
      "2023-01-07 16:36:32.839823: I tensorflow/compiler/xla/stream_executor/cuda/cuda_diagnostics.cc:156] kernel driver does not appear to be running on this host (rahul-Vostro-14-3468): /proc/driver/nvidia/version does not exist\n"
     ]
    }
   ],
   "source": [
    "from spacy.lang.en import English\n",
    "from spacy.lang.en.stop_words import STOP_WORDS\n",
    "\n",
    "# Load English tokenizer, tagger, parser, NER and word vectors\n",
    "nlp = English()"
   ]
  },
  {
   "cell_type": "code",
   "execution_count": 12,
   "id": "89e2617a",
   "metadata": {},
   "outputs": [],
   "source": [
    "# Tokenizing the tweet base texts.\n",
    "def tokenize(text):\n",
    "    my_doc = nlp(text)\n",
    "    token_list = []\n",
    "    for token in my_doc:\n",
    "        token_list.append(token.text)\n",
    "    return token_list    "
   ]
  },
  {
   "cell_type": "code",
   "execution_count": 13,
   "id": "f394e522",
   "metadata": {},
   "outputs": [
    {
     "data": {
      "application/vnd.jupyter.widget-view+json": {
       "model_id": "6a11fd5bd64b444dac4f8edd60e64fac",
       "version_major": 2,
       "version_minor": 0
      },
      "text/plain": [
       "Pandas Apply:   0%|          | 0/400000 [00:00<?, ?it/s]"
      ]
     },
     "metadata": {},
     "output_type": "display_data"
    }
   ],
   "source": [
    "df.text = df.text.swifter.apply(lambda x: tokenize(x))"
   ]
  },
  {
   "cell_type": "code",
   "execution_count": 14,
   "id": "dee3e636",
   "metadata": {},
   "outputs": [],
   "source": [
    "# df.text.tolist()"
   ]
  },
  {
   "cell_type": "markdown",
   "id": "505bd999",
   "metadata": {},
   "source": [
    "## Remove StopWords"
   ]
  },
  {
   "cell_type": "code",
   "execution_count": 15,
   "id": "83751af7",
   "metadata": {},
   "outputs": [],
   "source": [
    "def remove_stopwords(text):    \n",
    "    filtered_sentence =[] \n",
    "    for word in text:\n",
    "        lexeme = nlp.vocab[word]\n",
    "        if lexeme.is_stop == False:\n",
    "            filtered_sentence.append(word) \n",
    "    return \" \".join(filtered_sentence)"
   ]
  },
  {
   "cell_type": "code",
   "execution_count": 16,
   "id": "69f2c885",
   "metadata": {},
   "outputs": [
    {
     "data": {
      "application/vnd.jupyter.widget-view+json": {
       "model_id": "57486d11b1cb41c997cb875b4e13802f",
       "version_major": 2,
       "version_minor": 0
      },
      "text/plain": [
       "Pandas Apply:   0%|          | 0/400000 [00:00<?, ?it/s]"
      ]
     },
     "metadata": {},
     "output_type": "display_data"
    }
   ],
   "source": [
    "df.text = df.text.swifter.apply(lambda x: remove_stopwords(x))"
   ]
  },
  {
   "cell_type": "code",
   "execution_count": 17,
   "id": "6e98aa75",
   "metadata": {},
   "outputs": [],
   "source": [
    "# df.text.tolist()"
   ]
  },
  {
   "cell_type": "markdown",
   "id": "f86b5f0f",
   "metadata": {},
   "source": [
    "## Stemmizing\n",
    " * porter - PorterStemmer()\n",
    "     * snowball - LancasterStemmer()\n",
    "         * Lancster - SnowballStemmer()"
   ]
  },
  {
   "cell_type": "code",
   "execution_count": 18,
   "id": "10e38c7b",
   "metadata": {},
   "outputs": [],
   "source": [
    "from nltk.stem.snowball import SnowballStemmer\n",
    "\n",
    "snow_stemmer = SnowballStemmer(language='english')\n",
    "  \n",
    "def stemmizing(text):    \n",
    "    #stem of each word\n",
    "    stem_words = []\n",
    "    for w in text:\n",
    "        x = snow_stemmer.stem(w)\n",
    "        stem_words.append(x)\n",
    "    return \"\".join(stem_words)"
   ]
  },
  {
   "cell_type": "code",
   "execution_count": 19,
   "id": "a0913cbd",
   "metadata": {},
   "outputs": [
    {
     "data": {
      "application/vnd.jupyter.widget-view+json": {
       "model_id": "42696153653648f89cadc32e028f555c",
       "version_major": 2,
       "version_minor": 0
      },
      "text/plain": [
       "Pandas Apply:   0%|          | 0/400000 [00:00<?, ?it/s]"
      ]
     },
     "metadata": {},
     "output_type": "display_data"
    }
   ],
   "source": [
    "df['text'] = df.text.swifter.apply(lambda x: stemmizing(x))"
   ]
  },
  {
   "cell_type": "code",
   "execution_count": 20,
   "id": "fe835f0a",
   "metadata": {},
   "outputs": [
    {
     "data": {
      "text/html": [
       "<div>\n",
       "<style scoped>\n",
       "    .dataframe tbody tr th:only-of-type {\n",
       "        vertical-align: middle;\n",
       "    }\n",
       "\n",
       "    .dataframe tbody tr th {\n",
       "        vertical-align: top;\n",
       "    }\n",
       "\n",
       "    .dataframe thead th {\n",
       "        text-align: right;\n",
       "    }\n",
       "</style>\n",
       "<table border=\"1\" class=\"dataframe\">\n",
       "  <thead>\n",
       "    <tr style=\"text-align: right;\">\n",
       "      <th></th>\n",
       "      <th>text</th>\n",
       "      <th>label</th>\n",
       "    </tr>\n",
       "  </thead>\n",
       "  <tbody>\n",
       "    <tr>\n",
       "      <th>0</th>\n",
       "      <td>ai roboadvisers future financial advice   data...</td>\n",
       "      <td>1</td>\n",
       "    </tr>\n",
       "    <tr>\n",
       "      <th>1</th>\n",
       "      <td>hackers causing havoc mexican banking system c...</td>\n",
       "      <td>1</td>\n",
       "    </tr>\n",
       "    <tr>\n",
       "      <th>2</th>\n",
       "      <td>cve    issue discovered mxgraph      related  ...</td>\n",
       "      <td>1</td>\n",
       "    </tr>\n",
       "    <tr>\n",
       "      <th>3</th>\n",
       "      <td>protect online identity labourcyberattack cybe...</td>\n",
       "      <td>1</td>\n",
       "    </tr>\n",
       "    <tr>\n",
       "      <th>4</th>\n",
       "      <td>forensic acquisition   shadow cyber sec     cy...</td>\n",
       "      <td>1</td>\n",
       "    </tr>\n",
       "    <tr>\n",
       "      <th>...</th>\n",
       "      <td>...</td>\n",
       "      <td>...</td>\n",
       "    </tr>\n",
       "    <tr>\n",
       "      <th>199995</th>\n",
       "      <td>attackers test weak passwords purple fox malwa...</td>\n",
       "      <td>0</td>\n",
       "    </tr>\n",
       "    <tr>\n",
       "      <th>199996</th>\n",
       "      <td>aviso para los usuarios de correo de    recibi...</td>\n",
       "      <td>0</td>\n",
       "    </tr>\n",
       "    <tr>\n",
       "      <th>199997</th>\n",
       "      <td>npm obfuscated birthdaylike easter egg mistake...</td>\n",
       "      <td>0</td>\n",
       "    </tr>\n",
       "    <tr>\n",
       "      <th>199998</th>\n",
       "      <td>cpuspectreamdintel   gigazine   intelcpu</td>\n",
       "      <td>0</td>\n",
       "    </tr>\n",
       "    <tr>\n",
       "      <th>199999</th>\n",
       "      <td>new android banking malware named octo appeare...</td>\n",
       "      <td>0</td>\n",
       "    </tr>\n",
       "  </tbody>\n",
       "</table>\n",
       "<p>400000 rows × 2 columns</p>\n",
       "</div>"
      ],
      "text/plain": [
       "                                                     text  label\n",
       "0       ai roboadvisers future financial advice   data...      1\n",
       "1       hackers causing havoc mexican banking system c...      1\n",
       "2       cve    issue discovered mxgraph      related  ...      1\n",
       "3       protect online identity labourcyberattack cybe...      1\n",
       "4       forensic acquisition   shadow cyber sec     cy...      1\n",
       "...                                                   ...    ...\n",
       "199995  attackers test weak passwords purple fox malwa...      0\n",
       "199996  aviso para los usuarios de correo de    recibi...      0\n",
       "199997  npm obfuscated birthdaylike easter egg mistake...      0\n",
       "199998           cpuspectreamdintel   gigazine   intelcpu      0\n",
       "199999  new android banking malware named octo appeare...      0\n",
       "\n",
       "[400000 rows x 2 columns]"
      ]
     },
     "execution_count": 20,
     "metadata": {},
     "output_type": "execute_result"
    }
   ],
   "source": [
    "df"
   ]
  },
  {
   "cell_type": "code",
   "execution_count": 21,
   "id": "47783cb9",
   "metadata": {},
   "outputs": [],
   "source": [
    "# df.text.tolist()"
   ]
  },
  {
   "cell_type": "markdown",
   "id": "b9f5b572",
   "metadata": {},
   "source": [
    "## Lemmatization"
   ]
  },
  {
   "cell_type": "code",
   "execution_count": 22,
   "id": "59527319",
   "metadata": {},
   "outputs": [],
   "source": [
    "import nltk\n",
    "from nltk.stem import WordNetLemmatizer\n",
    "\n",
    "w_tokenizer = nltk.tokenize.WhitespaceTokenizer()\n",
    "lemmatizer = WordNetLemmatizer()\n",
    "\n",
    "words = set(nltk.corpus.words.words())\n",
    "# words = nltk.word_tokenize(corpus)\n",
    "\n",
    "class lemmatization:\n",
    "    \n",
    "    def __init__(self):\n",
    "        pass\n",
    "    \n",
    "    def lemmatizing_space(self, text):   \n",
    "        return \" \".join([lemmatizer.lemmatize(w) for w in w_tokenizer.tokenize(text)])\n",
    "\n",
    "    def lemmatizing_words(self, text):\n",
    "        return \" \".join(w for w in nltk.wordpunct_tokenize(text) if w.lower() in words or not w.isalpha())\n",
    "\n",
    "    def lemmatize(self, text):\n",
    "        return self.lemmatizing_space(self.lemmatizing_words(text))\n"
   ]
  },
  {
   "cell_type": "code",
   "execution_count": 23,
   "id": "2d3b23a0",
   "metadata": {},
   "outputs": [],
   "source": [
    "lemmatization_obj = lemmatization()"
   ]
  },
  {
   "cell_type": "code",
   "execution_count": 24,
   "id": "1de10a91",
   "metadata": {},
   "outputs": [
    {
     "data": {
      "application/vnd.jupyter.widget-view+json": {
       "model_id": "212255d1cda148aeb6b686d94ea92440",
       "version_major": 2,
       "version_minor": 0
      },
      "text/plain": [
       "Pandas Apply:   0%|          | 0/400000 [00:00<?, ?it/s]"
      ]
     },
     "metadata": {},
     "output_type": "display_data"
    }
   ],
   "source": [
    "df['text'] = df.text.swifter.apply(lambda x: lemmatization_obj.lemmatize(x))"
   ]
  },
  {
   "cell_type": "code",
   "execution_count": 25,
   "id": "e640a471",
   "metadata": {},
   "outputs": [],
   "source": [
    "# df.text.tolist()"
   ]
  },
  {
   "cell_type": "markdown",
   "id": "37ab1700",
   "metadata": {},
   "source": [
    "## Text Features Extraction:\n",
    "  * Weighted Words - Bag of Words (BoW) - Bag of n-grams:\n",
    "      * Frequency Vectors - CountVectorizer:\n",
    "          * Term Frequency-Inverse Document Frequency (TF-IDF):\n",
    "\n"
   ]
  },
  {
   "cell_type": "code",
   "execution_count": null,
   "id": "82f08dd2",
   "metadata": {},
   "outputs": [],
   "source": []
  },
  {
   "cell_type": "code",
   "execution_count": null,
   "id": "ed758e88",
   "metadata": {},
   "outputs": [],
   "source": []
  },
  {
   "cell_type": "markdown",
   "id": "e9d4ced8",
   "metadata": {},
   "source": [
    "## Word Embedding\n",
    "* Global Vectors for Word Representation (GloVe):\n",
    "  * Word2vec\n",
    "    * fastText"
   ]
  },
  {
   "cell_type": "markdown",
   "id": "bf507357",
   "metadata": {},
   "source": [
    "## fastText"
   ]
  },
  {
   "cell_type": "code",
   "execution_count": 26,
   "id": "9ec38ffd",
   "metadata": {},
   "outputs": [],
   "source": [
    "#data split for train and test\n",
    "\n",
    "from sklearn.model_selection import train_test_split\n",
    "\n",
    "train, test = train_test_split(df, test_size=0.1, random_state=42)\n",
    "train.reset_index(drop=True, inplace=True)\n",
    "test.reset_index(drop=True, inplace=True)"
   ]
  },
  {
   "cell_type": "code",
   "execution_count": 27,
   "id": "c844935f",
   "metadata": {},
   "outputs": [],
   "source": [
    "#Data prepare for fasttext format for train\n",
    "\n",
    "train[\"label_format\"]=0\n",
    "    \n",
    "for i in train.index:\n",
    "    train.loc[i, 'label_format'] = \"__label__\"+str(train.label[i])+\" \"+str(train.text[i])"
   ]
  },
  {
   "cell_type": "code",
   "execution_count": 28,
   "id": "3e9ab4f1",
   "metadata": {},
   "outputs": [],
   "source": [
    "# train.label_format.tolist()"
   ]
  },
  {
   "cell_type": "code",
   "execution_count": 29,
   "id": "fe5a197c",
   "metadata": {},
   "outputs": [],
   "source": [
    "#Data prepare for fasttext format for test\n",
    "\n",
    "test[\"label_format\"]=0\n",
    "    \n",
    "for i in test.index:\n",
    "    test.loc[i, 'label_format'] = \"__label__\"+str(test.label[i])+\" \"+str(test.text[i])"
   ]
  },
  {
   "cell_type": "code",
   "execution_count": 30,
   "id": "705b49cd",
   "metadata": {},
   "outputs": [],
   "source": [
    "import fasttext"
   ]
  },
  {
   "cell_type": "code",
   "execution_count": 31,
   "id": "718a620d",
   "metadata": {},
   "outputs": [],
   "source": [
    "train.label_format.to_csv('fasttext_train.txt',index=None,header=None)\n"
   ]
  },
  {
   "cell_type": "code",
   "execution_count": 32,
   "id": "40ff53c6",
   "metadata": {},
   "outputs": [],
   "source": [
    "test.label_format.to_csv('fasttext_test.txt',index=None,header=None)\n"
   ]
  },
  {
   "cell_type": "code",
   "execution_count": 33,
   "id": "74ca3884",
   "metadata": {},
   "outputs": [
    {
     "name": "stderr",
     "output_type": "stream",
     "text": [
      "Read 2M words\n",
      "Number of words:  21245\n",
      "Number of labels: 2\n",
      "Progress: 100.0% words/sec/thread:  561425 lr:  0.000000 avg.loss:  0.440792 ETA:   0h 0m 0s 94.7% words/sec/thread:  558268 lr:  0.002629 avg.loss:  0.441697 ETA:   0h 0m 4s\n"
     ]
    }
   ],
   "source": [
    "#train classifier model\n",
    "model = fasttext.train_supervised('fasttext_train.txt',epoch=50,lr=0.05,label_prefix='__label__',dim=300)"
   ]
  },
  {
   "cell_type": "code",
   "execution_count": 34,
   "id": "691e4456",
   "metadata": {},
   "outputs": [],
   "source": [
    "# model = fasttext.train_unsupervised('fasttext_train.txt',epoch=50,lr=0.05,label_prefix='__label__',dim=300)"
   ]
  },
  {
   "cell_type": "code",
   "execution_count": 35,
   "id": "5c955622",
   "metadata": {},
   "outputs": [
    {
     "data": {
      "text/plain": [
       "(40000, 0.790425, 0.790425)"
      ]
     },
     "execution_count": 35,
     "metadata": {},
     "output_type": "execute_result"
    }
   ],
   "source": [
    "#test fasttext model\n",
    "model.test('fasttext_test.txt')"
   ]
  },
  {
   "cell_type": "code",
   "execution_count": 36,
   "id": "b3fe3dbb",
   "metadata": {},
   "outputs": [],
   "source": [
    "result = model.test('fasttext_train.txt')\n",
    "validation = model.test('fasttext_test.txt')"
   ]
  },
  {
   "cell_type": "code",
   "execution_count": 37,
   "id": "a7ad2a50",
   "metadata": {},
   "outputs": [
    {
     "name": "stdout",
     "output_type": "stream",
     "text": [
      "accuracy:0.8044555555555556,validation:0.790425\n",
      "\n"
     ]
    }
   ],
   "source": [
    "# DISPLAY ACCURACY OF TRAINED MODEL\n",
    "text_line =  \"accuracy:\" + str(result[1])  +  \",validation:\" + str(validation[1]) + '\\n' \n",
    "print(text_line)"
   ]
  },
  {
   "cell_type": "code",
   "execution_count": 38,
   "id": "9f8a6512",
   "metadata": {},
   "outputs": [
    {
     "data": {
      "text/plain": [
       "(('__label__1',), array([0.76435316]))"
      ]
     },
     "execution_count": 38,
     "metadata": {},
     "output_type": "execute_result"
    }
   ],
   "source": [
    "model.predict('How to protect your online identity #labourcyberattack #CyberSecurity #CyberAttack   https://t.co/vyhQU2mpiR')"
   ]
  },
  {
   "cell_type": "code",
   "execution_count": 39,
   "id": "c70ef290",
   "metadata": {},
   "outputs": [
    {
     "data": {
      "text/plain": [
       "(('__label__0',), array([0.5879426]))"
      ]
     },
     "execution_count": 39,
     "metadata": {},
     "output_type": "execute_result"
    }
   ],
   "source": [
    "model.predict('#Malware #AgentTesla targets #Italy 🇮🇹  \"Re Fwd: AVVISO DI PAGAMENTO\"  🔥mail.[chinacbn[.biz b.results@[chinacbn.[biz  ⚙️https://t.co/YgXjhTpgyZ  @guelfoweb  @VirITeXplorer @58_158_177_102 @rootella_  #CyberSecurity #infosec #DFIR #cybercrime https://t.co/LXIA9kdn1S',)"
   ]
  },
  {
   "cell_type": "code",
   "execution_count": 40,
   "id": "cff33065",
   "metadata": {},
   "outputs": [
    {
     "data": {
      "text/plain": [
       "(('__label__0',), array([0.58131564]))"
      ]
     },
     "execution_count": 40,
     "metadata": {},
     "output_type": "execute_result"
    }
   ],
   "source": [
    "model.predict('#Ransomware nuovo attacco #hacker  Colpita #Gigabyte https://t.co/OvXKqfiCVB')"
   ]
  },
  {
   "cell_type": "code",
   "execution_count": 41,
   "id": "3b15e8b3",
   "metadata": {},
   "outputs": [
    {
     "data": {
      "text/plain": [
       "(('__label__1',), array([0.78413188]))"
      ]
     },
     "execution_count": 41,
     "metadata": {},
     "output_type": "execute_result"
    }
   ],
   "source": [
    "model.predict('One group is responsible for more than 400 #ransomware attacks against U.S. and international organizations https://t.co/8s8sfBbW5t')"
   ]
  },
  {
   "cell_type": "code",
   "execution_count": 42,
   "id": "4e8a6c15",
   "metadata": {},
   "outputs": [
    {
     "data": {
      "text/plain": [
       "(('__label__1',), array([0.75963771]))"
      ]
     },
     "execution_count": 42,
     "metadata": {},
     "output_type": "execute_result"
    }
   ],
   "source": [
    "model.predict('Radware is hiring! Apply to work at a Glassdoor top 10 Cybersecurity company today! https://t.co/u0i8x0TsY9 #cybersecurity #sales')"
   ]
  },
  {
   "cell_type": "code",
   "execution_count": 43,
   "id": "62e86360",
   "metadata": {},
   "outputs": [
    {
     "data": {
      "text/plain": [
       "(('__label__0',), array([0.8326267]))"
      ]
     },
     "execution_count": 43,
     "metadata": {},
     "output_type": "execute_result"
    }
   ],
   "source": [
    "model.predict('#Cybersecurity360 #js #cybersecurity  #linux #mac #osx  Update Feeds [skip ci]  670e108 8 minutes ago  mitchellkrogza / Phishing.Database. https://t.co/0Ud2gMqiVj')"
   ]
  },
  {
   "cell_type": "code",
   "execution_count": 44,
   "id": "0096b49a",
   "metadata": {},
   "outputs": [
    {
     "data": {
      "text/plain": [
       "(('__label__0',), array([0.5879426]))"
      ]
     },
     "execution_count": 44,
     "metadata": {},
     "output_type": "execute_result"
    }
   ],
   "source": [
    "model.predict('SMBs Severely Underestimate Data Breach Costs https://t.co/Vq8RsvauUb #SMB #small #business #breach #costs #CyberSecurity #riskmangement')"
   ]
  },
  {
   "cell_type": "code",
   "execution_count": 45,
   "id": "d552aff5",
   "metadata": {},
   "outputs": [
    {
     "data": {
      "text/html": [
       "<div>\n",
       "<style scoped>\n",
       "    .dataframe tbody tr th:only-of-type {\n",
       "        vertical-align: middle;\n",
       "    }\n",
       "\n",
       "    .dataframe tbody tr th {\n",
       "        vertical-align: top;\n",
       "    }\n",
       "\n",
       "    .dataframe thead th {\n",
       "        text-align: right;\n",
       "    }\n",
       "</style>\n",
       "<table border=\"1\" class=\"dataframe\">\n",
       "  <thead>\n",
       "    <tr style=\"text-align: right;\">\n",
       "      <th></th>\n",
       "      <th>text</th>\n",
       "      <th>label</th>\n",
       "    </tr>\n",
       "  </thead>\n",
       "  <tbody>\n",
       "    <tr>\n",
       "      <th>0</th>\n",
       "      <td>ai future financial advice privacy ai</td>\n",
       "      <td>1</td>\n",
       "    </tr>\n",
       "    <tr>\n",
       "      <th>1</th>\n",
       "      <td>causing havoc banking system</td>\n",
       "      <td>1</td>\n",
       "    </tr>\n",
       "    <tr>\n",
       "      <th>2</th>\n",
       "      <td>issue discovered related confluence improper i...</td>\n",
       "      <td>1</td>\n",
       "    </tr>\n",
       "    <tr>\n",
       "      <th>3</th>\n",
       "      <td>protect identity</td>\n",
       "      <td>1</td>\n",
       "    </tr>\n",
       "    <tr>\n",
       "      <th>4</th>\n",
       "      <td>forensic acquisition shadow sec</td>\n",
       "      <td>1</td>\n",
       "    </tr>\n",
       "    <tr>\n",
       "      <th>...</th>\n",
       "      <td>...</td>\n",
       "      <td>...</td>\n",
       "    </tr>\n",
       "    <tr>\n",
       "      <th>199995</th>\n",
       "      <td>test weak purple fox</td>\n",
       "      <td>0</td>\n",
       "    </tr>\n",
       "    <tr>\n",
       "      <th>199996</th>\n",
       "      <td>aviso para de de con</td>\n",
       "      <td>0</td>\n",
       "    </tr>\n",
       "    <tr>\n",
       "      <th>199997</th>\n",
       "      <td>easter egg mistaken think</td>\n",
       "      <td>0</td>\n",
       "    </tr>\n",
       "    <tr>\n",
       "      <th>199998</th>\n",
       "      <td></td>\n",
       "      <td>0</td>\n",
       "    </tr>\n",
       "    <tr>\n",
       "      <th>199999</th>\n",
       "      <td>new android banking wild remote access allow m...</td>\n",
       "      <td>0</td>\n",
       "    </tr>\n",
       "  </tbody>\n",
       "</table>\n",
       "<p>400000 rows × 2 columns</p>\n",
       "</div>"
      ],
      "text/plain": [
       "                                                     text  label\n",
       "0                   ai future financial advice privacy ai      1\n",
       "1                            causing havoc banking system      1\n",
       "2       issue discovered related confluence improper i...      1\n",
       "3                                        protect identity      1\n",
       "4                         forensic acquisition shadow sec      1\n",
       "...                                                   ...    ...\n",
       "199995                               test weak purple fox      0\n",
       "199996                               aviso para de de con      0\n",
       "199997                          easter egg mistaken think      0\n",
       "199998                                                         0\n",
       "199999  new android banking wild remote access allow m...      0\n",
       "\n",
       "[400000 rows x 2 columns]"
      ]
     },
     "execution_count": 45,
     "metadata": {},
     "output_type": "execute_result"
    }
   ],
   "source": [
    "df"
   ]
  },
  {
   "cell_type": "markdown",
   "id": "625ee0eb",
   "metadata": {},
   "source": [
    "## Advanced Word Embedding Methods - Deep Contextualized Word Representations:¶\n",
    "\n",
    "    # * Bidirectional Encoder Representations from Transformers (BERT):¶\n"
   ]
  },
  {
   "cell_type": "code",
   "execution_count": null,
   "id": "f1d07d87",
   "metadata": {},
   "outputs": [],
   "source": []
  },
  {
   "cell_type": "code",
   "execution_count": null,
   "id": "d689960a",
   "metadata": {},
   "outputs": [],
   "source": []
  }
 ],
 "metadata": {
  "kernelspec": {
   "display_name": "Python 3 (ipykernel)",
   "language": "python",
   "name": "python3"
  },
  "language_info": {
   "codemirror_mode": {
    "name": "ipython",
    "version": 3
   },
   "file_extension": ".py",
   "mimetype": "text/x-python",
   "name": "python",
   "nbconvert_exporter": "python",
   "pygments_lexer": "ipython3",
   "version": "3.10.6"
  }
 },
 "nbformat": 4,
 "nbformat_minor": 5
}
